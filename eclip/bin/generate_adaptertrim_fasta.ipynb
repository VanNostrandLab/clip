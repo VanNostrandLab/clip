{
 "cells": [
  {
   "cell_type": "markdown",
   "metadata": {},
   "source": [
    "# This generates the fasta adapter files from a predefined list of adapters\n",
    "- This is a pre-processing step that generates input adapter seqs (NOT PART OF THE PIPELINE)\n",
    "- These adapters are to be split into incrementing tiles, which are then used to trim excess adapter sequences with cutadapt.\n",
    "- We will store these as fasta files for convenience."
   ]
  },
  {
   "cell_type": "code",
   "execution_count": 1,
   "metadata": {},
   "outputs": [],
   "source": [
    "import os\n",
    "import glob\n",
    "import pandas as pd\n",
    "import numpy as np"
   ]
  },
  {
   "cell_type": "code",
   "execution_count": 2,
   "metadata": {},
   "outputs": [],
   "source": [
    "output_dir = '/projects/ps-yeolab4/software/eclip/0.5.0/examples/inputs/'"
   ]
  },
  {
   "cell_type": "markdown",
   "metadata": {},
   "source": [
    "# Notes from Eric:\n",
    "```\n",
    "You had tiles of:\n",
    "\n",
    "GATCGGAAGAGCACACGTCTGAACTCCAGTCAC\n",
    "\n",
    "Need to do tiles of:\n",
    "\n",
    "InvRNA1 NNAGCGCTAG A GATCGGAAGAGCACACGTCTGAACTCCAGTCAC\n",
    "InvRNA2 NNGATATCGA A GATCGGAAGAGCACACGTCTGAACTCCAGTCAC\n",
    "InvRNA3 NNCGCAGACG A GATCGGAAGAGCACACGTCTGAACTCCAGTCAC\n",
    "InvRNA4 NNTATGAGTA A GATCGGAAGAGCACACGTCTGAACTCCAGTCAC\n",
    "InvRNA5 NNAGGTGCGT A GATCGGAAGAGCACACGTCTGAACTCCAGTCAC\n",
    "InvRNA6 NNGAACATAC A GATCGGAAGAGCACACGTCTGAACTCCAGTCAC\n",
    "InvRNA7 NNACATAGCG A GATCGGAAGAGCACACGTCTGAACTCCAGTCAC\n",
    "InvRNA8 NNGTGCGATA A GATCGGAAGAGCACACGTCTGAACTCCAGTCAC\n",
    "```"
   ]
  },
  {
   "cell_type": "code",
   "execution_count": 3,
   "metadata": {},
   "outputs": [],
   "source": [
    "adapter_sequences = {\n",
    "    'InvRNA1':\"NNAGCGCTAGAGATCGGAAGAGCACACGTCTGAACTCCAGTCAC\",\n",
    "    'InvRNA2':\"NNGATATCGAAGATCGGAAGAGCACACGTCTGAACTCCAGTCAC\",\n",
    "    'InvRNA3':\"NNCGCAGACGAGATCGGAAGAGCACACGTCTGAACTCCAGTCAC\",\n",
    "    'InvRNA4':\"NNTATGAGTAAGATCGGAAGAGCACACGTCTGAACTCCAGTCAC\",\n",
    "    'InvRNA5':\"NNAGGTGCGTAGATCGGAAGAGCACACGTCTGAACTCCAGTCAC\",\n",
    "    'InvRNA6':\"NNGAACATACAGATCGGAAGAGCACACGTCTGAACTCCAGTCAC\",\n",
    "    'InvRNA7':\"NNACATAGCGAGATCGGAAGAGCACACGTCTGAACTCCAGTCAC\",\n",
    "    'InvRNA8':\"NNGTGCGATAAGATCGGAAGAGCACACGTCTGAACTCCAGTCAC\"\n",
    "}"
   ]
  },
  {
   "cell_type": "code",
   "execution_count": 4,
   "metadata": {},
   "outputs": [],
   "source": [
    "word_len = 15\n",
    "\n",
    "for name, sequence in adapter_sequences.items():\n",
    "    offset = 0\n",
    "    with open(os.path.join(output_dir, '{}_adapters.fasta'.format(name)), 'w') as f:\n",
    "        for counter in range(len(sequence) - word_len):\n",
    "            f.write(\n",
    "                \">{}_{}\\n{}\\n\".format(\n",
    "                    name,\n",
    "                    offset,\n",
    "                    sequence[offset:offset+word_len]\n",
    "                )\n",
    "            )\n",
    "            offset += 1"
   ]
  },
  {
   "cell_type": "code",
   "execution_count": null,
   "metadata": {},
   "outputs": [],
   "source": []
  }
 ],
 "metadata": {
  "kernelspec": {
   "display_name": "python3-essential",
   "language": "python",
   "name": "python3-essential"
  },
  "language_info": {
   "codemirror_mode": {
    "name": "ipython",
    "version": 3
   },
   "file_extension": ".py",
   "mimetype": "text/x-python",
   "name": "python",
   "nbconvert_exporter": "python",
   "pygments_lexer": "ipython3",
   "version": "3.6.7"
  }
 },
 "nbformat": 4,
 "nbformat_minor": 2
}
